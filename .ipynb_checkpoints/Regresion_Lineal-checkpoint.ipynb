{
 "cells": [
  {
   "cell_type": "code",
   "execution_count": 1,
   "metadata": {},
   "outputs": [],
   "source": [
    "import numpy as np\n",
    "\n",
    "class my_regression:\n",
    "    \n",
    "    #Constructor\n",
    "    def __init__(self, x, y):\n",
    "        self.x = np.array(x)\n",
    "        self.y = np.array(y)\n",
    "        self.b1 = ( len(self.x) * np.sum(self.x * self.y) - ( np.sum(self.x) * np.sum(self.y) ) ) / ( ( len(self.x) * np.sum(self.x**2) ) - (np.sum(self.x)**2 ) )\n",
    "        self.b0 = np.mean(self.y) - self.b1 * np.mean(self.x)\n",
    "\n",
    "    #Métodos\n",
    "        \n",
    "    #Prediccion Individual\n",
    "    def predict(self, val):\n",
    "        return self.b1 * val + self.b0\n",
    "        \n",
    "    #Prediccion de un arreglo de valores\n",
    "    def predictN(self, vals):\n",
    "        self.valN = np.array(vals)\n",
    "        self.preds = [self.b1 * val + self.b0 for val in self.valN]\n",
    "        return self.preds\n",
    "    \n",
    "    #Calcula el R2 de la regresion\n",
    "    def r2(self):\n",
    "        self.y_estim = [self.b1 * valor + self.b0 for valor in self.x]\n",
    "        self.sce = np.sum((self.y_estim - np.mean(self.y))**2)\n",
    "        self.sct = np.sum((self.y - np.mean(self.y))**2)\n",
    "        self.r2 = self.sce/self.sct\n",
    "        return self.r2\n",
    "        \n",
    "    #Calcula el valor del coeficiente de correlación    \n",
    "    def r(self):\n",
    "        self.y_estim = [self.b1 * valor + self.b0 for valor in self.x]\n",
    "        self.sce = np.sum((self.y_estim - np.mean(self.y))**2)\n",
    "        self.sct = np.sum((self.y - np.mean(self.y))**2)\n",
    "        self.r2 = self.sce/self.sct\n",
    "        self.r = np.sqrt(self.r2)\n",
    "        return self.r\n",
    "    \n",
    "    "
   ]
  },
  {
   "cell_type": "code",
   "execution_count": 2,
   "metadata": {},
   "outputs": [
    {
     "data": {
      "text/plain": [
       "60.0"
      ]
     },
     "execution_count": 2,
     "metadata": {},
     "output_type": "execute_result"
    }
   ],
   "source": [
    "prueba = my_regression([2,6,8,8,12,16,20,20,22,26], [58,105,88,118,117,137,157,169,149,202])\n",
    "\n",
    "prueba.b1\n",
    "prueba.b0"
   ]
  },
  {
   "cell_type": "code",
   "execution_count": 3,
   "metadata": {},
   "outputs": [
    {
     "data": {
      "text/plain": [
       "85.0"
      ]
     },
     "execution_count": 3,
     "metadata": {},
     "output_type": "execute_result"
    }
   ],
   "source": [
    "prueba.predict(5)"
   ]
  },
  {
   "cell_type": "code",
   "execution_count": 4,
   "metadata": {},
   "outputs": [
    {
     "data": {
      "text/plain": [
       "[70.0, 90.0, 100.0, 100.0, 120.0, 140.0, 160.0, 160.0, 170.0, 190.0]"
      ]
     },
     "execution_count": 4,
     "metadata": {},
     "output_type": "execute_result"
    }
   ],
   "source": [
    "prueba.predictN([2,6,8,8,12,16,20,20,22,26])"
   ]
  },
  {
   "cell_type": "code",
   "execution_count": 5,
   "metadata": {},
   "outputs": [
    {
     "data": {
      "text/plain": [
       "0.9027336300063573"
      ]
     },
     "execution_count": 5,
     "metadata": {},
     "output_type": "execute_result"
    }
   ],
   "source": [
    "prueba.r2()"
   ]
  },
  {
   "cell_type": "code",
   "execution_count": 6,
   "metadata": {},
   "outputs": [
    {
     "data": {
      "text/plain": [
       "0.9501229552044079"
      ]
     },
     "execution_count": 6,
     "metadata": {},
     "output_type": "execute_result"
    }
   ],
   "source": [
    "prueba.r()"
   ]
  },
  {
   "cell_type": "code",
   "execution_count": null,
   "metadata": {},
   "outputs": [],
   "source": [
    "    @classmethod\n",
    "    def from_file(cls, path):\n",
    "        #Constructor para calcular el b0, b1 desde un archivo\n",
    "    \n",
    "\n",
    "    def getAllParams(self):\n",
    "        #retorna un diccionario con todos los parametros\n",
    "    "
   ]
  }
 ],
 "metadata": {
  "kernelspec": {
   "display_name": "Python 3",
   "language": "python",
   "name": "python3"
  },
  "language_info": {
   "codemirror_mode": {
    "name": "ipython",
    "version": 3
   },
   "file_extension": ".py",
   "mimetype": "text/x-python",
   "name": "python",
   "nbconvert_exporter": "python",
   "pygments_lexer": "ipython3",
   "version": "3.8.5"
  }
 },
 "nbformat": 4,
 "nbformat_minor": 4
}
