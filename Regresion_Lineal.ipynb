{
 "cells": [
  {
   "cell_type": "code",
   "execution_count": null,
   "metadata": {},
   "outputs": [],
   "source": [
    "class my_regression:\n",
    "    def __init__(self, x, y):\n",
    "        self.b0 = ...\n",
    "        self.b1 = ...\n",
    "        self.x = ...\n",
    "        self.y = ...\n",
    "        \n",
    "    @classmethod\n",
    "    def from_file(cls, path):\n",
    "        #Constructor para calcular el b0, b1 desde un archivo\n",
    "    \n",
    "    #Metodos\n",
    "    def r2(self):\n",
    "        #calcula el r2 de la regresion\n",
    "        \n",
    "    def r(self):\n",
    "        #Calcula el valor del coeficiente de correlacion\n",
    "    \n",
    "    def getAllParams(self):\n",
    "        #retorna un diccionario con todos los parametros\n",
    "    \n",
    "    def predict(self, valor):\n",
    "        #Prediccion Individual\n",
    "    \n",
    "    def predictN(self, valores):\n",
    "        #Prediccion de un arreglo de valores"
   ]
  }
 ],
 "metadata": {
  "kernelspec": {
   "display_name": "Python 3",
   "language": "python",
   "name": "python3"
  },
  "language_info": {
   "codemirror_mode": {
    "name": "ipython",
    "version": 3
   },
   "file_extension": ".py",
   "mimetype": "text/x-python",
   "name": "python",
   "nbconvert_exporter": "python",
   "pygments_lexer": "ipython3",
   "version": "3.8.5"
  }
 },
 "nbformat": 4,
 "nbformat_minor": 4
}
