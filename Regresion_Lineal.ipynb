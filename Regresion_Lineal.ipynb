{
 "cells": [
  {
   "cell_type": "code",
   "execution_count": 12,
   "metadata": {},
   "outputs": [],
   "source": [
    "import numpy as np\n",
    "\n",
    "class my_regression:\n",
    "    \n",
    "    #Constructor\n",
    "    def __init__(self, x, y):\n",
    "        self.x = np.array(x)\n",
    "        self.y = np.array(y)\n",
    "        self.b1 = ( len(self.x) * np.sum(self.x * self.y) - ( np.sum(self.x) * np.sum(self.y) ) ) / ( ( len(self.x) * np.sum(self.x**2) ) - (np.sum(self.x)**2 ) )\n",
    "        self.b0 = np.mean(self.y) - self.b1 * np.mean(self.x)\n",
    "        \n",
    "    #Prediccion Individual\n",
    "    def predict(self, val):\n",
    "        return self.b1 * val + self.b0\n",
    "        \n",
    "    #Prediccion de un arreglo de valores\n",
    "    def predictN(self, vals):\n",
    "        self.valN = np.array(vals)\n",
    "        self.preds = [self.b1 * val + self.b0 for val in self.valN]\n",
    "        return self.preds"
   ]
  },
  {
   "cell_type": "code",
   "execution_count": 13,
   "metadata": {},
   "outputs": [
    {
     "data": {
      "text/plain": [
       "60.0"
      ]
     },
     "execution_count": 13,
     "metadata": {},
     "output_type": "execute_result"
    }
   ],
   "source": [
    "prueba = my_regression([2,6,8,8,12,16,20,20,22,26], [58,105,88,118,117,137,157,169,149,202])\n",
    "\n",
    "prueba.b1\n",
    "prueba.b0"
   ]
  },
  {
   "cell_type": "code",
   "execution_count": 14,
   "metadata": {},
   "outputs": [
    {
     "data": {
      "text/plain": [
       "85.0"
      ]
     },
     "execution_count": 14,
     "metadata": {},
     "output_type": "execute_result"
    }
   ],
   "source": [
    "prueba.predict(5)"
   ]
  },
  {
   "cell_type": "code",
   "execution_count": 17,
   "metadata": {},
   "outputs": [
    {
     "data": {
      "text/plain": [
       "[65.0, 70.0, 75.0]"
      ]
     },
     "execution_count": 17,
     "metadata": {},
     "output_type": "execute_result"
    }
   ],
   "source": [
    "prueba.predictN([1,2,3])"
   ]
  },
  {
   "cell_type": "code",
   "execution_count": null,
   "metadata": {},
   "outputs": [],
   "source": [
    "    @classmethod\n",
    "    def from_file(cls, path):\n",
    "        #Constructor para calcular el b0, b1 desde un archivo\n",
    "    \n",
    "    #Metodos\n",
    "    def r2(self):\n",
    "        #calcula el r2 de la regresion\n",
    "        \n",
    "    def r(self):\n",
    "        #Calcula el valor del coeficiente de correlacion\n",
    "    \n",
    "    def getAllParams(self):\n",
    "        #retorna un diccionario con todos los parametros\n",
    "    \n",
    "    def predict(self, valor):\n",
    "        #Prediccion Individual\n",
    "    \n",
    "    def predictN(self, valores):\n",
    "        #Prediccion de un arreglo de valores"
   ]
  }
 ],
 "metadata": {
  "kernelspec": {
   "display_name": "Python 3",
   "language": "python",
   "name": "python3"
  },
  "language_info": {
   "codemirror_mode": {
    "name": "ipython",
    "version": 3
   },
   "file_extension": ".py",
   "mimetype": "text/x-python",
   "name": "python",
   "nbconvert_exporter": "python",
   "pygments_lexer": "ipython3",
   "version": "3.8.5"
  }
 },
 "nbformat": 4,
 "nbformat_minor": 4
}
